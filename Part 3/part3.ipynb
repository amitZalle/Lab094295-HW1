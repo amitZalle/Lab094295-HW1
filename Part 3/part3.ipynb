{
  "cells": [
    {
      "cell_type": "markdown",
      "id": "9c748696",
      "metadata": {
        "id": "9c748696"
      },
      "source": [
        "#Imports and setup:"
      ]
    },
    {
      "cell_type": "code",
      "execution_count": null,
      "id": "mqRhZRiJxWwx",
      "metadata": {
        "id": "mqRhZRiJxWwx"
      },
      "outputs": [],
      "source": [
        "!pip install transformers sentence-transformers datasets cohere pinecone"
      ]
    },
    {
      "cell_type": "code",
      "execution_count": null,
      "id": "dd27c087",
      "metadata": {
        "id": "dd27c087"
      },
      "outputs": [],
      "source": [
        "from sentence_transformers import SentenceTransformer\n",
        "from datasets import load_dataset\n",
        "from pinecone import Pinecone, ServerlessSpec\n",
        "import os\n",
        "from tqdm import tqdm\n",
        "import cohere\n",
        "import numpy as np\n",
        "import warnings\n",
        "from IPython.display import display\n",
        "warnings.filterwarnings(\"ignore\")"
      ]
    },
    {
      "cell_type": "markdown",
      "id": "dd65ef13",
      "metadata": {
        "id": "dd65ef13"
      },
      "source": [
        "# Part 3 - RAG Implementation\n",
        "\n"
      ]
    },
    {
      "cell_type": "markdown",
      "id": "920b3551",
      "metadata": {
        "id": "920b3551"
      },
      "source": [
        "## Accessing APIs"
      ]
    },
    {
      "cell_type": "code",
      "execution_count": null,
      "id": "33e6f5b3",
      "metadata": {
        "id": "33e6f5b3"
      },
      "outputs": [],
      "source": [
        "with open(\"Assignment 1/chohere_api_key.txt\") as f:\n",
        "    COHERE_API_KEY = f.read().strip()\n",
        "with open(\"Assignment 1/pinecone_api_key.txt\") as f:\n",
        "    PINECONE_API_KEY = f.read().strip()"
      ]
    },
    {
      "cell_type": "markdown",
      "id": "bb480280",
      "metadata": {
        "id": "bb480280"
      },
      "source": [
        "##Embedding Model"
      ]
    },
    {
      "cell_type": "code",
      "execution_count": null,
      "id": "9d558650",
      "metadata": {
        "id": "9d558650"
      },
      "outputs": [],
      "source": [
        "from sentence_transformers import SentenceTransformer\n",
        "\n",
        "EMBEDDING_MODEL = 'all-MiniLM-L6-v2'\n",
        "model = SentenceTransformer(EMBEDDING_MODEL)"
      ]
    },
    {
      "cell_type": "code",
      "execution_count": null,
      "id": "25de8986",
      "metadata": {
        "id": "25de8986"
      },
      "outputs": [],
      "source": [
        "\n",
        "from datasets import load_dataset\n",
        "from sentence_transformers import SentenceTransformer\n",
        "\n",
        "def load_and_embedd_dataset(\n",
        "    dataset_name: str = 'natural_questions',\n",
        "    split: str = 'train',\n",
        "    model: SentenceTransformer = SentenceTransformer('all-MiniLM-L6-v2'),\n",
        "    text_field: str = 'context',  # Changed from 'highlights' to 'context' for QA datasets\n",
        "    rec_num: int = 400\n",
        ") -> tuple:\n",
        "    \"\"\"\n",
        "    Load a dataset and embedd the text field using a sentence-transformer model\n",
        "    Args:\n",
        "        dataset_name: The name of the dataset to load\n",
        "        split: The split of the dataset to load\n",
        "        model: The model to use for embedding\n",
        "        text_field: The field in the dataset that contains the text\n",
        "        rec_num: The number of records to load and embedd\n",
        "    Returns:\n",
        "        tuple: A tuple containing the dataset and the embeddings\n",
        "    \"\"\"\n",
        "    print(\"Loading and embedding the dataset\")\n",
        "\n",
        "    # Load the dataset\n",
        "    dataset = load_dataset(dataset_name, split=split)\n",
        "\n",
        "    context_list = dataset['context']\n",
        "    unique_contexts, unique_indices = np.unique(context_list, return_index=True)\n",
        "    dataset = dataset.select(unique_indices.tolist())\n",
        "\n",
        "    # Embed the first `rec_num` rows of the dataset\n",
        "    embeddings = model.encode(dataset[text_field][:rec_num], convert_to_tensor=True)\n",
        "\n",
        "    print(\"Done!\")\n",
        "    return dataset, embeddings\n",
        "\n"
      ]
    },
    {
      "cell_type": "code",
      "execution_count": null,
      "id": "3bff82e2",
      "metadata": {
        "colab": {
          "base_uri": "https://localhost:8080/"
        },
        "id": "3bff82e2",
        "outputId": "8b2c5c09-d23a-40cc-ef2b-d38c3777b4fb"
      },
      "outputs": [
        {
          "output_type": "stream",
          "name": "stdout",
          "text": [
            "Loading and embedding the dataset\n",
            "Done!\n"
          ]
        }
      ],
      "source": [
        "# Example usage\n",
        "DATASET_NAME = 'squad'\n",
        "SPLIT = 'validation'\n",
        "\n",
        "# Ensure the SentenceTransformer model is instantiated correctly\n",
        "MODEL = SentenceTransformer('all-MiniLM-L6-v2')\n",
        "\n",
        "dataset, embeddings = load_and_embedd_dataset(\n",
        "    dataset_name=DATASET_NAME,\n",
        "    split=SPLIT,\n",
        "    model=MODEL,\n",
        "    text_field='context',  # For SQuAD, 'context' is the field containing the passages\n",
        "    rec_num=400\n",
        ")\n",
        "\n",
        "shape = embeddings.shape"
      ]
    },
    {
      "cell_type": "code",
      "execution_count": null,
      "id": "ac3f8e6c",
      "metadata": {
        "colab": {
          "base_uri": "https://localhost:8080/",
          "height": 423
        },
        "id": "ac3f8e6c",
        "outputId": "1b41375c-452f-44f8-8012-1b1e33476eea"
      },
      "outputs": [
        {
          "output_type": "execute_result",
          "data": {
            "text/plain": [
              "                           id                title  \\\n",
              "0    5725c604271a42140099d185       Apollo_program   \n",
              "1    57267c63dd62a815002e86d6  Newcastle_upon_Tyne   \n",
              "2    572805363acd2414000df26d           Doctor_Who   \n",
              "3    5705edcd52bb8914006896ca  Southern_California   \n",
              "4    57302bd0b2c2fd14005689db             Islamism   \n",
              "..                        ...                  ...   \n",
              "495  572758c3dd62a815002e9b78         Genghis_Khan   \n",
              "496  57308cf88ab72b1400f9c576          Imperialism   \n",
              "497  572677e7708984140094c723              Geology   \n",
              "498  57300911947a6a140053cfb6                Rhine   \n",
              "499  572995d46aef051400154fe8         Prime_number   \n",
              "\n",
              "                                               context  \\\n",
              "0     Seamans' establishment of an ad-hoc committee...   \n",
              "1    \"Bairn\" and \"hyem\", meaning \"child\" and \"home\"...   \n",
              "2    \"Official\" reconstructions have also been rele...   \n",
              "3    \"Southern California\" is not a formal geograph...   \n",
              "4    \"The Islamic State\", formerly known as the \"Is...   \n",
              "..                                                 ...   \n",
              "495  Genghis Khan, the title is spelled in variety ...   \n",
              "496  Geographical theories such as environmental de...   \n",
              "497  Geologists use a number of field, laboratory, ...   \n",
              "498  Germanic tribes crossed the Rhine in the Migra...   \n",
              "499  Giuga's conjecture says that this equation is ...   \n",
              "\n",
              "                                              question  \\\n",
              "0         Who led the committee established by Seaman?   \n",
              "1    \"Bairn\" and \"hyem\" have origins from what cult...   \n",
              "2    Who has released official reconstructions of D...   \n",
              "3    Geographically speaking, where is California's...   \n",
              "4             What type of group is The Islamic State?   \n",
              "..                                                 ...   \n",
              "495    What is the Mongolian spelling of Genghis Khan?   \n",
              "496  Which theory suggested people in the tropics w...   \n",
              "497                                 What is petrology?   \n",
              "498  When did Germanic tribes cross the Rhine to mi...   \n",
              "499  Assuming p is a prime other than 2 or 5, then,...   \n",
              "\n",
              "                                               answers  \n",
              "0    {'text': ['Nicholas E. Golovin', 'Nicholas E. ...  \n",
              "1    {'text': ['Scandinavia', 'Scandinavia', 'Scand...  \n",
              "2    {'text': ['the BBC', 'BBC', 'BBC'], 'answer_st...  \n",
              "3    {'text': ['37° 9' 58.23\"', '37° 9' 58.23\"', '3...  \n",
              "4    {'text': ['Wahhabi/Salafi jihadist extremist m...  \n",
              "..                                                 ...  \n",
              "495  {'text': ['Chinggis Khaan', 'Chinggis Khaan', ...  \n",
              "496  {'text': ['environmental determinism', 'enviro...  \n",
              "497  {'text': ['the study of rocks', 'study of rock...  \n",
              "498  {'text': ['5th century', 'Migration period', '...  \n",
              "499  {'text': ['a recurring decimal', 'recurring', ...  \n",
              "\n",
              "[500 rows x 5 columns]"
            ],
            "text/html": [
              "\n",
              "  <div id=\"df-5eccc6f8-9067-4d08-ba50-9b2b8c07e95e\" class=\"colab-df-container\">\n",
              "    <div>\n",
              "<style scoped>\n",
              "    .dataframe tbody tr th:only-of-type {\n",
              "        vertical-align: middle;\n",
              "    }\n",
              "\n",
              "    .dataframe tbody tr th {\n",
              "        vertical-align: top;\n",
              "    }\n",
              "\n",
              "    .dataframe thead th {\n",
              "        text-align: right;\n",
              "    }\n",
              "</style>\n",
              "<table border=\"1\" class=\"dataframe\">\n",
              "  <thead>\n",
              "    <tr style=\"text-align: right;\">\n",
              "      <th></th>\n",
              "      <th>id</th>\n",
              "      <th>title</th>\n",
              "      <th>context</th>\n",
              "      <th>question</th>\n",
              "      <th>answers</th>\n",
              "    </tr>\n",
              "  </thead>\n",
              "  <tbody>\n",
              "    <tr>\n",
              "      <th>0</th>\n",
              "      <td>5725c604271a42140099d185</td>\n",
              "      <td>Apollo_program</td>\n",
              "      <td>Seamans' establishment of an ad-hoc committee...</td>\n",
              "      <td>Who led the committee established by Seaman?</td>\n",
              "      <td>{'text': ['Nicholas E. Golovin', 'Nicholas E. ...</td>\n",
              "    </tr>\n",
              "    <tr>\n",
              "      <th>1</th>\n",
              "      <td>57267c63dd62a815002e86d6</td>\n",
              "      <td>Newcastle_upon_Tyne</td>\n",
              "      <td>\"Bairn\" and \"hyem\", meaning \"child\" and \"home\"...</td>\n",
              "      <td>\"Bairn\" and \"hyem\" have origins from what cult...</td>\n",
              "      <td>{'text': ['Scandinavia', 'Scandinavia', 'Scand...</td>\n",
              "    </tr>\n",
              "    <tr>\n",
              "      <th>2</th>\n",
              "      <td>572805363acd2414000df26d</td>\n",
              "      <td>Doctor_Who</td>\n",
              "      <td>\"Official\" reconstructions have also been rele...</td>\n",
              "      <td>Who has released official reconstructions of D...</td>\n",
              "      <td>{'text': ['the BBC', 'BBC', 'BBC'], 'answer_st...</td>\n",
              "    </tr>\n",
              "    <tr>\n",
              "      <th>3</th>\n",
              "      <td>5705edcd52bb8914006896ca</td>\n",
              "      <td>Southern_California</td>\n",
              "      <td>\"Southern California\" is not a formal geograph...</td>\n",
              "      <td>Geographically speaking, where is California's...</td>\n",
              "      <td>{'text': ['37° 9' 58.23\"', '37° 9' 58.23\"', '3...</td>\n",
              "    </tr>\n",
              "    <tr>\n",
              "      <th>4</th>\n",
              "      <td>57302bd0b2c2fd14005689db</td>\n",
              "      <td>Islamism</td>\n",
              "      <td>\"The Islamic State\", formerly known as the \"Is...</td>\n",
              "      <td>What type of group is The Islamic State?</td>\n",
              "      <td>{'text': ['Wahhabi/Salafi jihadist extremist m...</td>\n",
              "    </tr>\n",
              "    <tr>\n",
              "      <th>...</th>\n",
              "      <td>...</td>\n",
              "      <td>...</td>\n",
              "      <td>...</td>\n",
              "      <td>...</td>\n",
              "      <td>...</td>\n",
              "    </tr>\n",
              "    <tr>\n",
              "      <th>495</th>\n",
              "      <td>572758c3dd62a815002e9b78</td>\n",
              "      <td>Genghis_Khan</td>\n",
              "      <td>Genghis Khan, the title is spelled in variety ...</td>\n",
              "      <td>What is the Mongolian spelling of Genghis Khan?</td>\n",
              "      <td>{'text': ['Chinggis Khaan', 'Chinggis Khaan', ...</td>\n",
              "    </tr>\n",
              "    <tr>\n",
              "      <th>496</th>\n",
              "      <td>57308cf88ab72b1400f9c576</td>\n",
              "      <td>Imperialism</td>\n",
              "      <td>Geographical theories such as environmental de...</td>\n",
              "      <td>Which theory suggested people in the tropics w...</td>\n",
              "      <td>{'text': ['environmental determinism', 'enviro...</td>\n",
              "    </tr>\n",
              "    <tr>\n",
              "      <th>497</th>\n",
              "      <td>572677e7708984140094c723</td>\n",
              "      <td>Geology</td>\n",
              "      <td>Geologists use a number of field, laboratory, ...</td>\n",
              "      <td>What is petrology?</td>\n",
              "      <td>{'text': ['the study of rocks', 'study of rock...</td>\n",
              "    </tr>\n",
              "    <tr>\n",
              "      <th>498</th>\n",
              "      <td>57300911947a6a140053cfb6</td>\n",
              "      <td>Rhine</td>\n",
              "      <td>Germanic tribes crossed the Rhine in the Migra...</td>\n",
              "      <td>When did Germanic tribes cross the Rhine to mi...</td>\n",
              "      <td>{'text': ['5th century', 'Migration period', '...</td>\n",
              "    </tr>\n",
              "    <tr>\n",
              "      <th>499</th>\n",
              "      <td>572995d46aef051400154fe8</td>\n",
              "      <td>Prime_number</td>\n",
              "      <td>Giuga's conjecture says that this equation is ...</td>\n",
              "      <td>Assuming p is a prime other than 2 or 5, then,...</td>\n",
              "      <td>{'text': ['a recurring decimal', 'recurring', ...</td>\n",
              "    </tr>\n",
              "  </tbody>\n",
              "</table>\n",
              "<p>500 rows × 5 columns</p>\n",
              "</div>\n",
              "    <div class=\"colab-df-buttons\">\n",
              "\n",
              "  <div class=\"colab-df-container\">\n",
              "    <button class=\"colab-df-convert\" onclick=\"convertToInteractive('df-5eccc6f8-9067-4d08-ba50-9b2b8c07e95e')\"\n",
              "            title=\"Convert this dataframe to an interactive table.\"\n",
              "            style=\"display:none;\">\n",
              "\n",
              "  <svg xmlns=\"http://www.w3.org/2000/svg\" height=\"24px\" viewBox=\"0 -960 960 960\">\n",
              "    <path d=\"M120-120v-720h720v720H120Zm60-500h600v-160H180v160Zm220 220h160v-160H400v160Zm0 220h160v-160H400v160ZM180-400h160v-160H180v160Zm440 0h160v-160H620v160ZM180-180h160v-160H180v160Zm440 0h160v-160H620v160Z\"/>\n",
              "  </svg>\n",
              "    </button>\n",
              "\n",
              "  <style>\n",
              "    .colab-df-container {\n",
              "      display:flex;\n",
              "      gap: 12px;\n",
              "    }\n",
              "\n",
              "    .colab-df-convert {\n",
              "      background-color: #E8F0FE;\n",
              "      border: none;\n",
              "      border-radius: 50%;\n",
              "      cursor: pointer;\n",
              "      display: none;\n",
              "      fill: #1967D2;\n",
              "      height: 32px;\n",
              "      padding: 0 0 0 0;\n",
              "      width: 32px;\n",
              "    }\n",
              "\n",
              "    .colab-df-convert:hover {\n",
              "      background-color: #E2EBFA;\n",
              "      box-shadow: 0px 1px 2px rgba(60, 64, 67, 0.3), 0px 1px 3px 1px rgba(60, 64, 67, 0.15);\n",
              "      fill: #174EA6;\n",
              "    }\n",
              "\n",
              "    .colab-df-buttons div {\n",
              "      margin-bottom: 4px;\n",
              "    }\n",
              "\n",
              "    [theme=dark] .colab-df-convert {\n",
              "      background-color: #3B4455;\n",
              "      fill: #D2E3FC;\n",
              "    }\n",
              "\n",
              "    [theme=dark] .colab-df-convert:hover {\n",
              "      background-color: #434B5C;\n",
              "      box-shadow: 0px 1px 3px 1px rgba(0, 0, 0, 0.15);\n",
              "      filter: drop-shadow(0px 1px 2px rgba(0, 0, 0, 0.3));\n",
              "      fill: #FFFFFF;\n",
              "    }\n",
              "  </style>\n",
              "\n",
              "    <script>\n",
              "      const buttonEl =\n",
              "        document.querySelector('#df-5eccc6f8-9067-4d08-ba50-9b2b8c07e95e button.colab-df-convert');\n",
              "      buttonEl.style.display =\n",
              "        google.colab.kernel.accessAllowed ? 'block' : 'none';\n",
              "\n",
              "      async function convertToInteractive(key) {\n",
              "        const element = document.querySelector('#df-5eccc6f8-9067-4d08-ba50-9b2b8c07e95e');\n",
              "        const dataTable =\n",
              "          await google.colab.kernel.invokeFunction('convertToInteractive',\n",
              "                                                    [key], {});\n",
              "        if (!dataTable) return;\n",
              "\n",
              "        const docLinkHtml = 'Like what you see? Visit the ' +\n",
              "          '<a target=\"_blank\" href=https://colab.research.google.com/notebooks/data_table.ipynb>data table notebook</a>'\n",
              "          + ' to learn more about interactive tables.';\n",
              "        element.innerHTML = '';\n",
              "        dataTable['output_type'] = 'display_data';\n",
              "        await google.colab.output.renderOutput(dataTable, element);\n",
              "        const docLink = document.createElement('div');\n",
              "        docLink.innerHTML = docLinkHtml;\n",
              "        element.appendChild(docLink);\n",
              "      }\n",
              "    </script>\n",
              "  </div>\n",
              "\n",
              "\n",
              "<div id=\"df-0bd1b87e-88c0-431d-8fa3-6fc5d7b55e1a\">\n",
              "  <button class=\"colab-df-quickchart\" onclick=\"quickchart('df-0bd1b87e-88c0-431d-8fa3-6fc5d7b55e1a')\"\n",
              "            title=\"Suggest charts\"\n",
              "            style=\"display:none;\">\n",
              "\n",
              "<svg xmlns=\"http://www.w3.org/2000/svg\" height=\"24px\"viewBox=\"0 0 24 24\"\n",
              "     width=\"24px\">\n",
              "    <g>\n",
              "        <path d=\"M19 3H5c-1.1 0-2 .9-2 2v14c0 1.1.9 2 2 2h14c1.1 0 2-.9 2-2V5c0-1.1-.9-2-2-2zM9 17H7v-7h2v7zm4 0h-2V7h2v10zm4 0h-2v-4h2v4z\"/>\n",
              "    </g>\n",
              "</svg>\n",
              "  </button>\n",
              "\n",
              "<style>\n",
              "  .colab-df-quickchart {\n",
              "      --bg-color: #E8F0FE;\n",
              "      --fill-color: #1967D2;\n",
              "      --hover-bg-color: #E2EBFA;\n",
              "      --hover-fill-color: #174EA6;\n",
              "      --disabled-fill-color: #AAA;\n",
              "      --disabled-bg-color: #DDD;\n",
              "  }\n",
              "\n",
              "  [theme=dark] .colab-df-quickchart {\n",
              "      --bg-color: #3B4455;\n",
              "      --fill-color: #D2E3FC;\n",
              "      --hover-bg-color: #434B5C;\n",
              "      --hover-fill-color: #FFFFFF;\n",
              "      --disabled-bg-color: #3B4455;\n",
              "      --disabled-fill-color: #666;\n",
              "  }\n",
              "\n",
              "  .colab-df-quickchart {\n",
              "    background-color: var(--bg-color);\n",
              "    border: none;\n",
              "    border-radius: 50%;\n",
              "    cursor: pointer;\n",
              "    display: none;\n",
              "    fill: var(--fill-color);\n",
              "    height: 32px;\n",
              "    padding: 0;\n",
              "    width: 32px;\n",
              "  }\n",
              "\n",
              "  .colab-df-quickchart:hover {\n",
              "    background-color: var(--hover-bg-color);\n",
              "    box-shadow: 0 1px 2px rgba(60, 64, 67, 0.3), 0 1px 3px 1px rgba(60, 64, 67, 0.15);\n",
              "    fill: var(--button-hover-fill-color);\n",
              "  }\n",
              "\n",
              "  .colab-df-quickchart-complete:disabled,\n",
              "  .colab-df-quickchart-complete:disabled:hover {\n",
              "    background-color: var(--disabled-bg-color);\n",
              "    fill: var(--disabled-fill-color);\n",
              "    box-shadow: none;\n",
              "  }\n",
              "\n",
              "  .colab-df-spinner {\n",
              "    border: 2px solid var(--fill-color);\n",
              "    border-color: transparent;\n",
              "    border-bottom-color: var(--fill-color);\n",
              "    animation:\n",
              "      spin 1s steps(1) infinite;\n",
              "  }\n",
              "\n",
              "  @keyframes spin {\n",
              "    0% {\n",
              "      border-color: transparent;\n",
              "      border-bottom-color: var(--fill-color);\n",
              "      border-left-color: var(--fill-color);\n",
              "    }\n",
              "    20% {\n",
              "      border-color: transparent;\n",
              "      border-left-color: var(--fill-color);\n",
              "      border-top-color: var(--fill-color);\n",
              "    }\n",
              "    30% {\n",
              "      border-color: transparent;\n",
              "      border-left-color: var(--fill-color);\n",
              "      border-top-color: var(--fill-color);\n",
              "      border-right-color: var(--fill-color);\n",
              "    }\n",
              "    40% {\n",
              "      border-color: transparent;\n",
              "      border-right-color: var(--fill-color);\n",
              "      border-top-color: var(--fill-color);\n",
              "    }\n",
              "    60% {\n",
              "      border-color: transparent;\n",
              "      border-right-color: var(--fill-color);\n",
              "    }\n",
              "    80% {\n",
              "      border-color: transparent;\n",
              "      border-right-color: var(--fill-color);\n",
              "      border-bottom-color: var(--fill-color);\n",
              "    }\n",
              "    90% {\n",
              "      border-color: transparent;\n",
              "      border-bottom-color: var(--fill-color);\n",
              "    }\n",
              "  }\n",
              "</style>\n",
              "\n",
              "  <script>\n",
              "    async function quickchart(key) {\n",
              "      const quickchartButtonEl =\n",
              "        document.querySelector('#' + key + ' button');\n",
              "      quickchartButtonEl.disabled = true;  // To prevent multiple clicks.\n",
              "      quickchartButtonEl.classList.add('colab-df-spinner');\n",
              "      try {\n",
              "        const charts = await google.colab.kernel.invokeFunction(\n",
              "            'suggestCharts', [key], {});\n",
              "      } catch (error) {\n",
              "        console.error('Error during call to suggestCharts:', error);\n",
              "      }\n",
              "      quickchartButtonEl.classList.remove('colab-df-spinner');\n",
              "      quickchartButtonEl.classList.add('colab-df-quickchart-complete');\n",
              "    }\n",
              "    (() => {\n",
              "      let quickchartButtonEl =\n",
              "        document.querySelector('#df-0bd1b87e-88c0-431d-8fa3-6fc5d7b55e1a button');\n",
              "      quickchartButtonEl.style.display =\n",
              "        google.colab.kernel.accessAllowed ? 'block' : 'none';\n",
              "    })();\n",
              "  </script>\n",
              "</div>\n",
              "\n",
              "    </div>\n",
              "  </div>\n"
            ],
            "application/vnd.google.colaboratory.intrinsic+json": {
              "type": "dataframe",
              "variable_name": "pd_dataset",
              "summary": "{\n  \"name\": \"pd_dataset\",\n  \"rows\": 2067,\n  \"fields\": [\n    {\n      \"column\": \"id\",\n      \"properties\": {\n        \"dtype\": \"string\",\n        \"num_unique_values\": 2067,\n        \"samples\": [\n          \"56e1075ae3433e1400422afa\",\n          \"57105da9a58dae1900cd699e\",\n          \"5711623e50c2381900b54ab9\"\n        ],\n        \"semantic_type\": \"\",\n        \"description\": \"\"\n      }\n    },\n    {\n      \"column\": \"title\",\n      \"properties\": {\n        \"dtype\": \"category\",\n        \"num_unique_values\": 48,\n        \"samples\": [\n          \"Packet_switching\",\n          \"Civil_disobedience\",\n          \"Black_Death\"\n        ],\n        \"semantic_type\": \"\",\n        \"description\": \"\"\n      }\n    },\n    {\n      \"column\": \"context\",\n      \"properties\": {\n        \"dtype\": \"string\",\n        \"num_unique_values\": 2067,\n        \"samples\": [\n          \"Before World War I, Tesla sought overseas investors. After the war started, Tesla lost the funding he was receiving from his patents in European countries. Eventually, he sold Wardenclyffe for $20,000 ($472,500 in today's dollars). In 1917, around the time that the Wardenclyffe Tower was demolished by Boldt to make the land a more viable real estate asset, Tesla received AIEE's highest honor, the Edison Medal.\",\n          \"Huguenot numbers peaked near an estimated two million by 1562, concentrated mainly in the southern and central parts of France, about one-eighth the number of French Catholics. As Huguenots gained influence and more openly displayed their faith, Catholic hostility grew, in spite of increasingly liberal political concessions and edicts of toleration from the French crown. A series of religious conflicts followed, known as the Wars of Religion, fought intermittently from 1562 to 1598. The wars finally ended with the granting of the Edict of Nantes, which granted the Huguenots substantial religious, political and military autonomy.\",\n          \"Steam engines frequently possess two independent mechanisms for ensuring that the pressure in the boiler does not go too high; one may be adjusted by the user, the second is typically designed as an ultimate fail-safe. Such safety valves traditionally used a simple lever to restrain a plug valve in the top of a boiler. One end of the lever carried a weight or spring that restrained the valve against steam pressure. Early valves could be adjusted by engine drivers, leading to many accidents when a driver fastened the valve down to allow greater steam pressure and more power from the engine. The more recent type of safety valve uses an adjustable spring-loaded valve, which is locked such that operators may not tamper with its adjustment unless a seal illegally is broken. This arrangement is considerably safer.[citation needed]\"\n        ],\n        \"semantic_type\": \"\",\n        \"description\": \"\"\n      }\n    },\n    {\n      \"column\": \"question\",\n      \"properties\": {\n        \"dtype\": \"string\",\n        \"num_unique_values\": 2067,\n        \"samples\": [\n          \"Where did Tesla look for investors prior to WWI?\",\n          \"Where was France's Huguenot population largely centered?\",\n          \"How many mechanisms does a typical steam engine have to keep boiler pressure from getting too high?\"\n        ],\n        \"semantic_type\": \"\",\n        \"description\": \"\"\n      }\n    },\n    {\n      \"column\": \"answers\",\n      \"properties\": {\n        \"dtype\": \"object\",\n        \"semantic_type\": \"\",\n        \"description\": \"\"\n      }\n    }\n  ]\n}"
            }
          },
          "metadata": {},
          "execution_count": 105
        }
      ],
      "source": [
        "pd_dataset = dataset.to_pandas()\n",
        "pd_dataset.head(500)"
      ]
    },
    {
      "cell_type": "code",
      "execution_count": null,
      "id": "8f1e83d2",
      "metadata": {
        "colab": {
          "base_uri": "https://localhost:8080/"
        },
        "id": "8f1e83d2",
        "outputId": "7e33cddd-103b-46e3-f502-6ff815a6938a"
      },
      "outputs": [
        {
          "output_type": "stream",
          "name": "stdout",
          "text": [
            "The embeddings shape: torch.Size([400, 384])\n"
          ]
        }
      ],
      "source": [
        "print(f\"The embeddings shape: {embeddings.shape}\")"
      ]
    },
    {
      "cell_type": "markdown",
      "source": [
        "##LLM without RAG"
      ],
      "metadata": {
        "id": "Hb2ZK7XVA2fy"
      },
      "id": "Hb2ZK7XVA2fy"
    },
    {
      "cell_type": "markdown",
      "source": [
        "Create hard queries for the LLM:\n"
      ],
      "metadata": {
        "id": "Cns-oaJKBKn_"
      },
      "id": "Cns-oaJKBKn_"
    },
    {
      "cell_type": "code",
      "execution_count": null,
      "id": "f59275f9",
      "metadata": {
        "colab": {
          "base_uri": "https://localhost:8080/"
        },
        "id": "f59275f9",
        "outputId": "c87a6277-984a-4ea7-ead7-2d60ec6373d5"
      },
      "outputs": [
        {
          "output_type": "stream",
          "name": "stdout",
          "text": [
            "The process of squaring a number can be reduced to:\n",
            "\n",
            "- Multiplying the number by itself.\n",
            "- Using exponent rules to rewrite the expression.\n",
            "- Applying special cases for squaring certain types of numbers.\n",
            "\n",
            "For example, let's consider the number $a$:\n",
            "\n",
            "- The square of $a$ is denoted as $a^2$, which means multiplying $a$ by itself: $a^2 = a \\times a$.\n",
            "- Using exponent rules, we can also express $a^2$ as $(a)^2 = a^{2-1} \\times a^1 = a^1 \\times a = a \\times a$.\n",
            "- For special cases, squaring a number like $5$ can be quickly calculated as $5^2 = 25$.\n",
            "\n",
            "So, squaring a number involves either direct multiplication or applying exponent rules and special cases to simplify the expression. \n",
            " ______________________ \n",
            "\n",
            "The given regular expression is {xx | x is any binary string}. To solve this, we can break it down as follows:\n",
            "\n",
            "- \"xx\" represents a pair of binary digits, which can be either 00, 01, 10, or 11.\n",
            "- \"|\" is the alternation operator, indicating that we have a choice between the options before and after the \"|\".\n",
            "- \"x is any binary string\" means we can have any combination of 0's and 1's for the value of x.\n",
            "\n",
            "Therefore, the regular expression can be simplified as:\n",
            "00 | 01 | 10 | 11\n",
            "\n",
            "Each of these options can be checked in constant time, so the overall time complexity to solve the regular expression is O(1). \n",
            " ______________________ \n",
            "\n",
            "Here are two well-known complexity resources:\n",
            "\n",
            "1. \"Introduction to Algorithms\" by Thomas H. Cormen, Charles E. Leiserson, Ronald L. Rivest, and Clifford Stein: This book is widely considered a standard text on algorithms and includes a comprehensive discussion of complexity analysis and a range of algorithms.\n",
            "\n",
            "2. \"The Design and Analysis of Computer Algorithms\" by Aho, Hopcroft, and Ullman: Another classic text that covers algorithm design paradigms, analysis techniques, and a wide range of algorithms, with a focus on providing a rigorous treatment of the subject.\n",
            "\n",
            "These books provide in-depth explanations of various complexity classes, algorithm design techniques, and analysis methods, making them valuable resources for anyone studying or working in the field of computer science. \n",
            " ______________________ \n",
            "\n"
          ]
        }
      ],
      "source": [
        "import cohere\n",
        "\n",
        "query1 = \"what can the process of squaring a num can be reduced to\"\n",
        "query2 = \"{xx | x is any binary string} can be solved in what time?\"\n",
        "query3 = \"give me two well-known complexity resources\"\n",
        "\n",
        "for query in [query1, query2, query3]:\n",
        "  co = cohere.Client(api_key=COHERE_API_KEY)\n",
        "  response = co.chat(\n",
        "          model='command-r-plus',\n",
        "          message=query,\n",
        "      )\n",
        "  print(response.text,'\\n','______________________','\\n')"
      ]
    },
    {
      "cell_type": "markdown",
      "source": [
        "##RAG Pipeline"
      ],
      "metadata": {
        "id": "rwU7kJDKCCRo"
      },
      "id": "rwU7kJDKCCRo"
    },
    {
      "cell_type": "markdown",
      "id": "a8474a04",
      "metadata": {
        "id": "a8474a04"
      },
      "source": [
        "###VectorDB\n",
        "We will use Pinecone's free-to-use vectorDB"
      ]
    },
    {
      "cell_type": "code",
      "execution_count": null,
      "id": "de149555",
      "metadata": {
        "id": "de149555"
      },
      "outputs": [],
      "source": [
        "def create_pinecone_index(\n",
        "        index_name: str,\n",
        "        dimension: int,\n",
        "        metric: str = 'cosine',\n",
        "):\n",
        "    \"\"\"\n",
        "    Create a pinecone index if it does not exist\n",
        "    Args:\n",
        "        index_name: The name of the index\n",
        "        dimension: The dimension of the index\n",
        "        metric: The metric to use for the index\n",
        "    Returns:\n",
        "        Pinecone: A pinecone object which can later be used for upserting vectors and connecting to VectorDBs\n",
        "    \"\"\"\n",
        "    from pinecone import Pinecone, ServerlessSpec\n",
        "    print(\"Creating a Pinecone index...\")\n",
        "    pc = Pinecone(api_key=PINECONE_API_KEY)\n",
        "    existing_indexes = [index_info[\"name\"] for index_info in pc.list_indexes()]\n",
        "    if index_name not in existing_indexes:\n",
        "        pc.create_index(\n",
        "            name=index_name,\n",
        "            dimension=dimension,\n",
        "            metric=metric,\n",
        "            spec=ServerlessSpec(\n",
        "                cloud=\"aws\",\n",
        "                region=\"us-east-1\"\n",
        "            )\n",
        "        )\n",
        "    print(\"Done!\")\n",
        "    return pc"
      ]
    },
    {
      "cell_type": "code",
      "execution_count": null,
      "id": "e6e59ce9",
      "metadata": {
        "colab": {
          "base_uri": "https://localhost:8080/"
        },
        "id": "e6e59ce9",
        "outputId": "826ce387-6572-494a-c5db-9df6c643c2de"
      },
      "outputs": [
        {
          "output_type": "stream",
          "name": "stdout",
          "text": [
            "Creating a Pinecone index...\n",
            "Done!\n"
          ]
        }
      ],
      "source": [
        "INDEX_NAME = 'squad-index'\n",
        "\n",
        "# Create the vector database\n",
        "# We are passing the index_name and the size of our embeddings\n",
        "pc = create_pinecone_index(INDEX_NAME, shape[1])"
      ]
    },
    {
      "cell_type": "markdown",
      "id": "99bdf2a1",
      "metadata": {
        "id": "99bdf2a1"
      },
      "source": [
        "Now that we have created the vector database, let's add some data to it!"
      ]
    },
    {
      "cell_type": "code",
      "execution_count": null,
      "id": "f22e0176",
      "metadata": {
        "id": "f22e0176"
      },
      "outputs": [],
      "source": [
        "def upsert_vectors(\n",
        "        index: Pinecone,\n",
        "        embeddings: np.ndarray,\n",
        "        dataset: dict,\n",
        "        text_field: str = 'context',  # Adjust based on your dataset structure\n",
        "        batch_size: int = 128\n",
        "):\n",
        "    \"\"\"\n",
        "    Upsert vectors to a pinecone index\n",
        "    Args:\n",
        "        index: The pinecone index object\n",
        "        embeddings: The embeddings to upsert (numpy.ndarray)\n",
        "        dataset: The dataset containing the metadata\n",
        "        text_field: The field in the dataset that contains the metadata\n",
        "        batch_size: The batch size to use for upserting\n",
        "    Returns:\n",
        "        An updated pinecone index\n",
        "    \"\"\"\n",
        "    print(\"Upserting the embeddings to the Pinecone index...\")\n",
        "    shape = embeddings.shape\n",
        "\n",
        "    ids = [str(i) for i in range(shape[0])]\n",
        "    meta = [{text_field: dataset[text_field][i]} for i in range(shape[0])]  # Adjust metadata field here\n",
        "\n",
        "    # Convert embeddings from numpy.ndarray to list of Python floats or integers\n",
        "    embeddings_list = embeddings.tolist()\n",
        "\n",
        "    # create list of (id, vector, metadata) tuples to be upserted\n",
        "    to_upsert = list(zip(ids, embeddings_list, meta))\n",
        "\n",
        "    for i in tqdm(range(0, shape[0], batch_size)):\n",
        "        i_end = min(i + batch_size, shape[0])\n",
        "        index.upsert(vectors=to_upsert[i:i_end])\n",
        "    return index\n",
        "\n",
        "\n"
      ]
    },
    {
      "cell_type": "code",
      "execution_count": null,
      "id": "ee8f4096",
      "metadata": {
        "id": "ee8f4096",
        "outputId": "e313f1be-b4ca-42d3-9c35-ae22322554eb",
        "colab": {
          "base_uri": "https://localhost:8080/"
        }
      },
      "outputs": [
        {
          "output_type": "stream",
          "name": "stdout",
          "text": [
            "Upserting the embeddings to the Pinecone index...\n"
          ]
        },
        {
          "output_type": "stream",
          "name": "stderr",
          "text": [
            "100%|██████████| 4/4 [00:02<00:00,  1.70it/s]\n"
          ]
        }
      ],
      "source": [
        "# Example usage\n",
        "INDEX_NAME = 'squad-index'  # Adjusted index name to 'squad-index'\n",
        "\n",
        "# Assuming `embeddings` and `dataset` are defined\n",
        "# `embeddings` should be your numpy array of embeddings\n",
        "# `dataset` should be your dictionary containing SQuAD data\n",
        "\n",
        "# Create a Pinecone index object\n",
        "index = Pinecone(api_key=PINECONE_API_KEY).Index(INDEX_NAME)\n",
        "\n",
        "# Upsert the embeddings to the Pinecone index\n",
        "index_upserted = upsert_vectors(index, embeddings, dataset)\n"
      ]
    },
    {
      "cell_type": "markdown",
      "id": "f24fe00d",
      "metadata": {
        "id": "f24fe00d"
      },
      "source": [
        "Let's view the index statistics!"
      ]
    },
    {
      "cell_type": "code",
      "execution_count": null,
      "id": "085fe0ef",
      "metadata": {
        "id": "085fe0ef",
        "outputId": "ebab04de-48cd-4404-ceb8-c15af9942b52",
        "colab": {
          "base_uri": "https://localhost:8080/"
        }
      },
      "outputs": [
        {
          "output_type": "execute_result",
          "data": {
            "text/plain": [
              "{'dimension': 384,\n",
              " 'index_fullness': 0.0,\n",
              " 'namespaces': {'': {'vector_count': 400}},\n",
              " 'total_vector_count': 400}"
            ]
          },
          "metadata": {},
          "execution_count": 116
        }
      ],
      "source": [
        "index.describe_index_stats()"
      ]
    },
    {
      "cell_type": "markdown",
      "source": [
        "###Final RAG pipeline:"
      ],
      "metadata": {
        "id": "Ya020yOYBCix"
      },
      "id": "Ya020yOYBCix"
    },
    {
      "cell_type": "code",
      "execution_count": null,
      "id": "bb91e350",
      "metadata": {
        "id": "bb91e350"
      },
      "outputs": [],
      "source": [
        "def augment_prompt(\n",
        "        query: str,\n",
        "        model: SentenceTransformer = SentenceTransformer('all-MiniLM-L6-v2'),\n",
        "        index=None,\n",
        "        k=3,\n",
        ") -> str:\n",
        "    \"\"\"\n",
        "    Augment the prompt with the top 3 results from the knowledge base\n",
        "    Args:\n",
        "        query: The query to augment\n",
        "        model: The SentenceTransformer model for encoding queries\n",
        "        index: The Pinecone index object\n",
        "    Returns:\n",
        "        str: The augmented prompt\n",
        "    \"\"\"\n",
        "    print(\"Augmenting the prompt with knowledge base results...\")\n",
        "    results = model.encode(query)\n",
        "\n",
        "    # Convert results from numpy.ndarray to list of Python floats or integers\n",
        "    results_list = results.tolist()\n",
        "\n",
        "    # get top 3 results from knowledge base\n",
        "    query_results = index.query(\n",
        "        vector=results_list,\n",
        "        top_k=k,\n",
        "        include_values=True,\n",
        "        include_metadata=True\n",
        "    )['matches']\n",
        "\n",
        "    text_matches = [match['metadata']['context'] for match in query_results]  # Adjust to correct metadata field\n",
        "\n",
        "    # get the text from the results\n",
        "    source_knowledge = \"\\n\\n\".join(text_matches)\n",
        "\n",
        "    # feed into an augmented prompt\n",
        "    augmented_prompt = f\"\"\"Using the contexts below, answer the query.\n",
        "    Contexts:\n",
        "    {source_knowledge}\n",
        "    If the answer is not included in the source knowledge - say that you don't know.\n",
        "    Query: {query}\"\"\"\n",
        "\n",
        "    return augmented_prompt, source_knowledge\n"
      ]
    },
    {
      "cell_type": "markdown",
      "source": [
        "Using RAG to improve LLM response to hard queries:"
      ],
      "metadata": {
        "id": "7e9VSwmMBSE_"
      },
      "id": "7e9VSwmMBSE_"
    },
    {
      "cell_type": "code",
      "execution_count": null,
      "id": "4f07e0a7",
      "metadata": {
        "colab": {
          "base_uri": "https://localhost:8080/"
        },
        "id": "4f07e0a7",
        "outputId": "07745aa6-340a-4aee-d51d-b8ea7564c5f3"
      },
      "outputs": [
        {
          "output_type": "stream",
          "name": "stdout",
          "text": [
            "Augmenting the prompt with knowledge base results...\n",
            "The process of squaring a number can be reduced to repeated multiplication. \n",
            " ______________________ \n",
            "\n",
            "Augmenting the prompt with knowledge base results...\n",
            "The context states that the language {xx | x is any binary string} can be solved in linear time on a multi-tape Turing machine. \n",
            " ______________________ \n",
            "\n",
            "Augmenting the prompt with knowledge base results...\n",
            "The two most well-known complexity resources are time and space. \n",
            " ______________________ \n",
            "\n"
          ]
        }
      ],
      "source": [
        "\n",
        "query1 = \"what can the process of squaring a num can be reduced to?\"\n",
        "query2 = \"{xx | x is any binary string} can be solved in what time?\"\n",
        "query3 = \"give me two well-known complexity resources\"\n",
        "\n",
        "queries = [query1, query2, query3]\n",
        "ks = [5000, 10, 1000]\n",
        "\n",
        "for query, k in zip(queries,ks):\n",
        "  augmented_prompt, source_knowledge = augment_prompt(query, model=model, index=index,k=k)\n",
        "  # print(augmented_prompt)\n",
        "  response = co.chat(\n",
        "        model='command-r-plus',\n",
        "        message=augmented_prompt,\n",
        "    )\n",
        "  print(response.text,'\\n','______________________','\\n')"
      ]
    }
  ],
  "metadata": {
    "celltoolbar": "Slideshow",
    "colab": {
      "provenance": [],
      "gpuType": "T4"
    },
    "kernelspec": {
      "display_name": "Python 3",
      "name": "python3"
    },
    "language_info": {
      "codemirror_mode": {
        "name": "ipython",
        "version": 3
      },
      "file_extension": ".py",
      "mimetype": "text/x-python",
      "name": "python",
      "nbconvert_exporter": "python",
      "pygments_lexer": "ipython3",
      "version": "3.11.3"
    },
    "accelerator": "GPU"
  },
  "nbformat": 4,
  "nbformat_minor": 5
}